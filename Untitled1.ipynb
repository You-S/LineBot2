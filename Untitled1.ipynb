{
 "cells": [
  {
   "cell_type": "code",
   "execution_count": 6,
   "id": "about-ready",
   "metadata": {},
   "outputs": [],
   "source": [
    "import requests\n",
    "from bs4 import BeautifulSoup\n",
    "import re\n",
    "\n",
    "url = 'https://cp.toyota.jp/rentacar/?padid=ag270_fr_sptop_onewayma'\n",
    "res = requests.get(url)\n",
    "soup = BeautifulSoup(res.text, 'html.parser')\n",
    "\n",
    "bookList = []\n",
    "cont_count = 1\n",
    "carLists = soup.find('ul', attrs={'id': 'service-items-shop-type-start'})\n",
    "carLists = carLists.find_all('li', attrs={'class': 'service-item'})\n",
    "for carList in carLists:\n",
    "    if carList.find('div', attrs={'class': 'show-entry-end'}) is None:\n",
    "        search = re.compile('^ヤリス')\n",
    "        al = carList.find(text=search)\n",
    "al"
   ]
  },
  {
   "cell_type": "code",
   "execution_count": 11,
   "id": "acute-ocean",
   "metadata": {
    "collapsed": true,
    "jupyter": {
     "outputs_hidden": true
    },
    "tags": []
   },
   "outputs": [
    {
     "data": {
      "text/plain": [
       "<li class=\"service-item\" data-return-area=\"2\" data-start-area=\"2\">\n",
       "<div class=\"service-item__body show-entry-end\">\n",
       "<div class=\"service-item__shop\">\n",
       "<div class=\"service-item__shop-start\">\n",
       "<p class=\"label-sp\">出発<br/>店舗</p>\n",
       "<p>\n",
       "          トヨタレンタリース岩手 北上駅新幹線東口店          <small>（岩手県 北上市）</small>\n",
       "</p>\n",
       "</div>\n",
       "<div class=\"service-item__shop-return\">\n",
       "<p class=\"label-sp\">返却<br/>店舗</p>\n",
       "<p>\n",
       "          トヨタレンタリース山形 返却可能店舗          <small>（下記参照）</small>\n",
       "</p>\n",
       "</div>\n",
       "</div>\n",
       "<div class=\"service-item__date\">\n",
       "<p class=\"label-sp\">出発期間</p>\n",
       "<p>2021年3月30日 ～ 4月1日</p>\n",
       "</div>\n",
       "<div class=\"service-item__group-btn\">\n",
       "<span class=\"btn-open\">さらに詳細をみる</span>\n",
       "<span class=\"btn-close\">詳細を閉じる</span>\n",
       "</div>\n",
       "<div class=\"service-item__group\">\n",
       "<div class=\"service-item__info\">\n",
       "<div class=\"service-item__info__car-type\">\n",
       "<p class=\"label-sp\">車種</p>\n",
       "<p>ヴィッツ　車両番号7977</p>\n",
       "</div>\n",
       "<div class=\"wrapper\">\n",
       "<div class=\"service-item__info__condition\">\n",
       "<p class=\"label-sp\">車両条件</p>\n",
       "<p>A/T　2WD　禁煙車　ナビ付　ETC付　スタッドレス</p>\n",
       "</div>\n",
       "<div class=\"service-item__info__date\">\n",
       "<p></p>2021年3月30日 ～ 4月1日\n",
       "</div>\n",
       "</div>\n",
       "</div>\n",
       "<div class=\"service-item__reserve\">\n",
       "<p class=\"label-sp\">予約電話番号</p>\n",
       "<div class=\"wrapper\">\n",
       "<div class=\"service-item__reserve-shop\">\n",
       "            本社　レンタル課店          </div>\n",
       "<div class=\"service-item__reserve-tel\">\n",
       "            019-606-3076          </div>\n",
       "</div>\n",
       "</div>\n",
       "</div>\n",
       "</div>\n",
       "</li>"
      ]
     },
     "execution_count": 11,
     "metadata": {},
     "output_type": "execute_result"
    }
   ],
   "source": [
    "url = 'https://cp.toyota.jp/rentacar/?padid=ag270_fr_sptop_onewayma'\n",
    "res = requests.get(url)\n",
    "soup = BeautifulSoup(res.text, 'html.parser')\n",
    "\n",
    "bookList = []\n",
    "cont_count = 1\n",
    "carLists = soup.find('ul', attrs={'id': 'service-items-shop-type-start'})\n",
    "carLists = carLists.find_all('li', attrs={'class': 'service-item'})\n",
    "carLists[0]"
   ]
  },
  {
   "cell_type": "code",
   "execution_count": 16,
   "id": "animated-kansas",
   "metadata": {},
   "outputs": [
    {
     "data": {
      "text/plain": [
       "True"
      ]
     },
     "execution_count": 16,
     "metadata": {},
     "output_type": "execute_result"
    }
   ],
   "source": [
    "'トヨタ' in carLists[0].text"
   ]
  },
  {
   "cell_type": "code",
   "execution_count": null,
   "id": "quantitative-capitol",
   "metadata": {},
   "outputs": [],
   "source": []
  }
 ],
 "metadata": {
  "kernelspec": {
   "display_name": "Python 3",
   "language": "python",
   "name": "python3"
  },
  "language_info": {
   "codemirror_mode": {
    "name": "ipython",
    "version": 3
   },
   "file_extension": ".py",
   "mimetype": "text/x-python",
   "name": "python",
   "nbconvert_exporter": "python",
   "pygments_lexer": "ipython3",
   "version": "3.8.5"
  }
 },
 "nbformat": 4,
 "nbformat_minor": 5
}
