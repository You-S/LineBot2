{
 "cells": [
  {
   "cell_type": "code",
   "execution_count": 27,
   "id": "quantitative-mason",
   "metadata": {},
   "outputs": [],
   "source": [
    "def check(carName):\n",
    "    import requests\n",
    "    from bs4 import BeautifulSoup\n",
    "\n",
    "    url = 'https://cp.toyota.jp/rentacar/?padid=ag270_fr_sptop_onewayma'\n",
    "    res = requests.get(url)\n",
    "    soup = BeautifulSoup(res.text, 'html.parser')\n",
    "\n",
    "    bookList = []\n",
    "    cont_count = 1\n",
    "    carLists = soup.find('ul', attrs={'id': 'service-items-shop-type-start'})\n",
    "    carLists = carLists.find_all('li', attrs={'class': 'service-item'})\n",
    "    for carList in carLists:\n",
    "        if carList.find('div', attrs={'class': 'show-entry-end'}) is None:\n",
    "            if carName in carList.text:\n",
    "                carList1 = carList.find_all('p')\n",
    "                carList2 = carList.find('div', attrs={'class': 'service-item__reserve-tel'})\n",
    "                content2 = carList2.text.replace('\\n', '').replace(' ', '').replace('\\u3000', ' ')\n",
    "                car = []\n",
    "                for content in carList1:\n",
    "                    content = content.text.replace('\\n', '').replace(' ', '').replace('\\u3000', ' ')\n",
    "                    if content != '':\n",
    "                        car.append(content)\n",
    "                car.append(content2)\n",
    "                sList = ''\n",
    "                for i in range(0,12,2):\n",
    "                    info = car[i]\n",
    "                    cont = car[i+1]\n",
    "                    sList = sList + '\\n' + info + ':' + cont\n",
    "                sList = str(cont_count) + '件目' + sList\n",
    "                cont_count += 1\n",
    "                bookList.append(sList)\n",
    "    return bookList"
   ]
  },
  {
   "cell_type": "code",
   "execution_count": 29,
   "id": "hindu-incidence",
   "metadata": {},
   "outputs": [
    {
     "data": {
      "text/plain": [
       "['1件目\\n出発店舗:トヨタレンタリース愛知今池店（愛知県名古屋市）\\n返却店舗:トヨタモビリティサービス返却可能店舗（下記参照）\\n出発期間:2021年4月1日～4月3日\\n車種:アルファ-ド 車両番号6536\\n車両条件:禁煙・8人乗り\\n予約電話番号:0120-001-319']"
      ]
     },
     "execution_count": 29,
     "metadata": {},
     "output_type": "execute_result"
    }
   ],
   "source": [
    "check('アル')"
   ]
  },
  {
   "cell_type": "code",
   "execution_count": null,
   "id": "marine-biography",
   "metadata": {},
   "outputs": [],
   "source": []
  }
 ],
 "metadata": {
  "kernelspec": {
   "display_name": "Python 3",
   "language": "python",
   "name": "python3"
  },
  "language_info": {
   "codemirror_mode": {
    "name": "ipython",
    "version": 3
   },
   "file_extension": ".py",
   "mimetype": "text/x-python",
   "name": "python",
   "nbconvert_exporter": "python",
   "pygments_lexer": "ipython3",
   "version": "3.8.5"
  }
 },
 "nbformat": 4,
 "nbformat_minor": 5
}
