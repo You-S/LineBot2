{
 "cells": [
  {
   "cell_type": "code",
   "execution_count": 32,
   "id": "respected-stadium",
   "metadata": {},
   "outputs": [],
   "source": [
    "from linebot.models import (\n",
    "    MessageEvent, TextMessage, TextSendMessage,\n",
    ")\n",
    "\n",
    "def check(carName):\n",
    "    import requests\n",
    "    from bs4 import BeautifulSoup\n",
    "\n",
    "    url = 'https://cp.toyota.jp/rentacar/?padid=ag270_fr_sptop_onewayma'\n",
    "    res = requests.get(url)\n",
    "    soup = BeautifulSoup(res.text, 'html.parser')\n",
    "\n",
    "    bookList = []\n",
    "    cont_count = 1\n",
    "    carLists = soup.find('ul', attrs={'id': 'service-items-shop-type-start'})\n",
    "    carLists = carLists.find_all('li', attrs={'class': 'service-item'})\n",
    "    for carList in carLists:\n",
    "        if carList.find('div', attrs={'class': 'show-entry-end'}) is None:\n",
    "            if carName in carList.text:\n",
    "                carList1 = carList.find_all('p')\n",
    "                carList2 = carList.find('div', attrs={'class': 'service-item__reserve-tel'})\n",
    "                content2 = carList2.text.replace('\\n', '').replace(' ', '').replace('\\u3000', ' ')\n",
    "                car = []\n",
    "                for content in carList1:\n",
    "                    content = content.text.replace('\\n', '').replace(' ', '').replace('\\u3000', ' ')\n",
    "                    if content != '':\n",
    "                        car.append(content)\n",
    "                car.append(content2)\n",
    "                sList = ''\n",
    "                for i in range(0,12,2):\n",
    "                    info = car[i]\n",
    "                    cont = car[i+1]\n",
    "                    sList = sList + '\\n' + info + ':' + cont\n",
    "                sList = str(cont_count) + '件目' + sList\n",
    "                cont_count += 1\n",
    "                bookList.append(sList)\n",
    "    return bookList"
   ]
  },
  {
   "cell_type": "code",
   "execution_count": 35,
   "id": "adjacent-speaker",
   "metadata": {},
   "outputs": [
    {
     "data": {
      "text/plain": [
       "['1件目\\n出発店舗:トヨタレンタリース岩手一ノ関駅西口店（岩手県一関市）\\n返却店舗:トヨタレンタリース山形返却可能店舗（下記参照）\\n出発期間:2021年3月31日～4月2日\\n車種:ヤリス 車両番号8479\\n車両条件:A/T 2WD 禁煙車 ナビ付 ETC付 スタッドレス\\n予約電話番号:019-606-3076',\n",
       " '2件目\\n出発店舗:トヨタレンタリース名古屋豊橋高師店（愛知県豊橋市）\\n返却店舗:トヨタモビリティサービス返却可能店舗（下記参照）\\n出発期間:2021年3月30日～4月1日\\n車種:ヤリス 車両番号3698\\n車両条件:禁煙・５人乗り\\n予約電話番号:0120-921-758']"
      ]
     },
     "execution_count": 35,
     "metadata": {},
     "output_type": "execute_result"
    }
   ],
   "source": [
    "result = check('ヤリス')\n",
    "result"
   ]
  },
  {
   "cell_type": "code",
   "execution_count": 43,
   "id": "proof-transfer",
   "metadata": {},
   "outputs": [
    {
     "data": {
      "text/plain": [
       "[{\"text\": \"1\\u4ef6\\u76ee\\n\\u51fa\\u767a\\u5e97\\u8217:\\u30c8\\u30e8\\u30bf\\u30ec\\u30f3\\u30bf\\u30ea\\u30fc\\u30b9\\u5ca9\\u624b\\u4e00\\u30ce\\u95a2\\u99c5\\u897f\\u53e3\\u5e97\\uff08\\u5ca9\\u624b\\u770c\\u4e00\\u95a2\\u5e02\\uff09\\n\\u8fd4\\u5374\\u5e97\\u8217:\\u30c8\\u30e8\\u30bf\\u30ec\\u30f3\\u30bf\\u30ea\\u30fc\\u30b9\\u5c71\\u5f62\\u8fd4\\u5374\\u53ef\\u80fd\\u5e97\\u8217\\uff08\\u4e0b\\u8a18\\u53c2\\u7167\\uff09\\n\\u51fa\\u767a\\u671f\\u9593:2021\\u5e743\\u670831\\u65e5\\uff5e4\\u67082\\u65e5\\n\\u8eca\\u7a2e:\\u30e4\\u30ea\\u30b9 \\u8eca\\u4e21\\u756a\\u53f78479\\n\\u8eca\\u4e21\\u6761\\u4ef6:A/T 2WD \\u7981\\u7159\\u8eca \\u30ca\\u30d3\\u4ed8 ETC\\u4ed8 \\u30b9\\u30bf\\u30c3\\u30c9\\u30ec\\u30b9\\n\\u4e88\\u7d04\\u96fb\\u8a71\\u756a\\u53f7:019-606-3076\", \"type\": \"text\"},\n",
       " {\"text\": \"2\\u4ef6\\u76ee\\n\\u51fa\\u767a\\u5e97\\u8217:\\u30c8\\u30e8\\u30bf\\u30ec\\u30f3\\u30bf\\u30ea\\u30fc\\u30b9\\u540d\\u53e4\\u5c4b\\u8c4a\\u6a4b\\u9ad8\\u5e2b\\u5e97\\uff08\\u611b\\u77e5\\u770c\\u8c4a\\u6a4b\\u5e02\\uff09\\n\\u8fd4\\u5374\\u5e97\\u8217:\\u30c8\\u30e8\\u30bf\\u30e2\\u30d3\\u30ea\\u30c6\\u30a3\\u30b5\\u30fc\\u30d3\\u30b9\\u8fd4\\u5374\\u53ef\\u80fd\\u5e97\\u8217\\uff08\\u4e0b\\u8a18\\u53c2\\u7167\\uff09\\n\\u51fa\\u767a\\u671f\\u9593:2021\\u5e743\\u670830\\u65e5\\uff5e4\\u67081\\u65e5\\n\\u8eca\\u7a2e:\\u30e4\\u30ea\\u30b9 \\u8eca\\u4e21\\u756a\\u53f73698\\n\\u8eca\\u4e21\\u6761\\u4ef6:\\u7981\\u7159\\u30fb\\uff15\\u4eba\\u4e57\\u308a\\n\\u4e88\\u7d04\\u96fb\\u8a71\\u756a\\u53f7:0120-921-758\", \"type\": \"text\"}]"
      ]
     },
     "execution_count": 43,
     "metadata": {},
     "output_type": "execute_result"
    }
   ],
   "source": [
    "messages = []\n",
    "for row in result:\n",
    "    messages.append(TextSendMessage(text=row))\n",
    "messages"
   ]
  },
  {
   "cell_type": "code",
   "execution_count": 37,
   "id": "offshore-expert",
   "metadata": {},
   "outputs": [
    {
     "data": {
      "text/plain": [
       "{\"text\": \"\\u3042\", \"type\": \"text\"}"
      ]
     },
     "execution_count": 37,
     "metadata": {},
     "output_type": "execute_result"
    }
   ],
   "source": [
    "m = TextSendMessage(text='あ')\n",
    "m"
   ]
  },
  {
   "cell_type": "code",
   "execution_count": null,
   "id": "assisted-devices",
   "metadata": {},
   "outputs": [],
   "source": []
  }
 ],
 "metadata": {
  "kernelspec": {
   "display_name": "Python 3",
   "language": "python",
   "name": "python3"
  },
  "language_info": {
   "codemirror_mode": {
    "name": "ipython",
    "version": 3
   },
   "file_extension": ".py",
   "mimetype": "text/x-python",
   "name": "python",
   "nbconvert_exporter": "python",
   "pygments_lexer": "ipython3",
   "version": "3.8.5"
  }
 },
 "nbformat": 4,
 "nbformat_minor": 5
}
