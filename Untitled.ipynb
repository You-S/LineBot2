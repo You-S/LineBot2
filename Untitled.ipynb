{
 "cells": [
  {
   "cell_type": "code",
   "execution_count": 12,
   "id": "pretty-problem",
   "metadata": {},
   "outputs": [],
   "source": [
    "def check(carName):\n",
    "    import requests\n",
    "    from bs4 import BeautifulSoup\n",
    "\n",
    "    url = 'https://cp.toyota.jp/rentacar/?padid=ag270_fr_sptop_onewayma'\n",
    "    res = requests.get(url)\n",
    "    soup = BeautifulSoup(res.text, 'html.parser')\n",
    "\n",
    "    bookList = []\n",
    "    cont_count = 1\n",
    "    carLists = soup.find('ul', attrs={'id': 'service-items-shop-type-start'})\n",
    "    carLists = carLists.find_all('li', attrs={'class': 'service-item'})\n",
    "    for carList in carLists:\n",
    "        if carList.find('div', attrs={'class': 'show-entry-end'}) is None:\n",
    "            if carName in carList.text:\n",
    "                carList1 = carList.find_all('p')\n",
    "                carList2 = carList.find('div', attrs={'class': 'service-item__reserve-tel'})\n",
    "                content2 = carList2.text.replace('\\n', '').replace(' ', '').replace('\\u3000', ' ')\n",
    "                car = []\n",
    "                for content in carList1:\n",
    "                    content = content.text.replace('\\n', '').replace(' ', '').replace('\\u3000', ' ')\n",
    "                    if content != '':\n",
    "                        car.append(content)\n",
    "                car.append(content2)\n",
    "                sList = ''\n",
    "                for i in range(0,12,2):\n",
    "                    info = car[i]\n",
    "                    cont = car[i+1]\n",
    "                    sList = sList + info + ':' + cont + '\\n'\n",
    "                sList = '\\n' + str(cont_count) + '件目\\n' + sList\n",
    "                cont_count += 1\n",
    "                bookList.append(sList)\n",
    "    return bookList"
   ]
  },
  {
   "cell_type": "code",
   "execution_count": 16,
   "id": "sharing-flower",
   "metadata": {},
   "outputs": [
    {
     "data": {
      "text/plain": [
       "['\\n1件目\\n出発店舗:トヨタレンタリース宮城仙台空港店（宮城県岩沼市）\\n返却店舗:トヨタレンタリース山形返却可能店舗（下記参照）\\n出発期間:2021年4月1日～4月3日\\n車種:ヴィッツ 車両番号7094\\n車両条件:A/T 4WD 禁煙車 ナビ付 ETC付 スタッドレス\\n予約電話番号:022-322-0100\\n',\n",
       " '\\n2件目\\n出発店舗:トヨタモビリティサービス赤羽駅前店（東京都北区）\\n返却店舗:トヨタレンタリース京都返却可能店舗（下記参照）\\n出発期間:2021年4月1日～4月3日\\n車種:ハイエースバン  車両番号6079\\n車両条件:喫煙 6名乗り \\n予約電話番号:03-3902-5766\\n',\n",
       " '\\n3件目\\n出発店舗:トヨタモビリティサービス成田空港店（千葉県成田市）\\n返却店舗:トヨタレンタリース京都返却可能店舗（下記参照）\\n出発期間:2021年4月1日～4月3日\\n車種:タンク 車両番号 7462\\n車両条件:禁煙 5名乗り\\n予約電話番号:0476-32-1020\\n',\n",
       " '\\n4件目\\n出発店舗:トヨタレンタリース浜松浜松駅前店（静岡県浜松市）\\n返却店舗:トヨタモビリティサービス返却可能店舗（下記参照）\\n出発期間:2021年4月1日～4月3日\\n車種:ヴィッツ 車両番号0851\\n車両条件:禁煙・５人乗り\\n予約電話番号:0120-61-0097\\n',\n",
       " '\\n5件目\\n出発店舗:トヨタレンタリース愛知碧南中央駅前店（愛知県碧南市）\\n返却店舗:トヨタモビリティサービス返却可能店舗（下記参照）\\n出発期間:2021年4月1日～4月3日\\n車種:タンク 車両番号3333\\n車両条件:禁煙・５人乗り\\n予約電話番号:0120-001-319\\n',\n",
       " '\\n6件目\\n出発店舗:トヨタレンタリース愛知半田店（愛知県半田市）\\n返却店舗:トヨタモビリティサービス返却可能店舗（下記参照）\\n出発期間:2021年4月1日～4月3日\\n車種:ルーミー 車両番号7007\\n車両条件:禁煙・５人乗り\\n予約電話番号:0120-001-319\\n',\n",
       " '\\n7件目\\n出発店舗:トヨタレンタリース愛知犬山店（愛知県犬山市）\\n返却店舗:トヨタモビリティサービス返却可能店舗（下記参照）\\n出発期間:2021年4月1日～4月3日\\n車種:プリウス 車両番号6390\\n車両条件:禁煙・５人乗り\\n予約電話番号:0120-001-319\\n',\n",
       " '\\n8件目\\n出発店舗:トヨタレンタリース名古屋刈谷駅前店（愛知県刈谷市）\\n返却店舗:トヨタモビリティサービス返却可能店舗（下記参照）\\n出発期間:2021年4月1日～4月3日\\n車種:プリウス 車両番号6395\\n車両条件:禁煙・５人乗り\\n予約電話番号:0120-921-758\\n',\n",
       " '\\n9件目\\n出発店舗:トヨタレンタリース静岡浜松新幹線口店（静岡県浜松市）\\n返却店舗:トヨタモビリティサービス返却可能店舗（下記参照）\\n出発期間:2021年4月1日～4月3日\\n車種:タウンエースバン車両番号4560\\n車両条件:禁煙・５人乗り\\n予約電話番号:0120-926-317\\n',\n",
       " '\\n10件目\\n出発店舗:トヨタレンタリース愛知今池店（愛知県名古屋市）\\n返却店舗:トヨタモビリティサービス返却可能店舗（下記参照）\\n出発期間:2021年4月1日～4月3日\\n車種:アルファ-ド 車両番号6536\\n車両条件:禁煙・8人乗り\\n予約電話番号:0120-001-319\\n']"
      ]
     },
     "execution_count": 16,
     "metadata": {},
     "output_type": "execute_result"
    }
   ],
   "source": [
    "check('3日')"
   ]
  },
  {
   "cell_type": "code",
   "execution_count": null,
   "id": "narrow-blond",
   "metadata": {},
   "outputs": [],
   "source": []
  }
 ],
 "metadata": {
  "kernelspec": {
   "display_name": "Python 3",
   "language": "python",
   "name": "python3"
  },
  "language_info": {
   "codemirror_mode": {
    "name": "ipython",
    "version": 3
   },
   "file_extension": ".py",
   "mimetype": "text/x-python",
   "name": "python",
   "nbconvert_exporter": "python",
   "pygments_lexer": "ipython3",
   "version": "3.8.5"
  }
 },
 "nbformat": 4,
 "nbformat_minor": 5
}
